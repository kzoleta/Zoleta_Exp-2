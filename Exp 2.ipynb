{
 "cells": [
  {
   "cell_type": "markdown",
   "id": "939c5802-23b1-49ac-9828-db21775ede78",
   "metadata": {},
   "source": [
    "## PA#2"
   ]
  },
  {
   "cell_type": "markdown",
   "id": "3b60a026-f8f8-4201-a524-8baf697bcbed",
   "metadata": {},
   "source": [
    "**_Normalization Problem_**   "
   ]
  },
  {
   "cell_type": "code",
   "execution_count": 8,
   "id": "380aacaf-41e2-44df-8b55-f9c77e10c4ec",
   "metadata": {},
   "outputs": [
    {
     "name": "stdout",
     "output_type": "stream",
     "text": [
      "Original Array X:\n",
      " [[0.89495275 0.79194062 0.46937287 0.9908733  0.57155289]\n",
      " [0.61821075 0.83270164 0.39095482 0.02299581 0.66421358]\n",
      " [0.20066791 0.14777649 0.74438209 0.52578507 0.24334674]\n",
      " [0.26934202 0.64291909 0.05317321 0.66129446 0.45950707]\n",
      " [0.24380284 0.17935431 0.47846855 0.047982   0.97413193]]\n",
      "Mean of X: 0.48478811147823764\n",
      "Standard Deviation of X: 0.2906815655247371\n",
      "Normalized Array X_normalized:\n",
      " [[ 1.41104453  1.05666319 -0.05303135  1.74102953  0.29848739]\n",
      " [ 0.45899932  1.19688885 -0.32280442 -1.58865355  0.61725782]\n",
      " [-0.97742765 -1.15938424  0.89305277  0.14103734 -0.83060436]\n",
      " [-0.74117563  0.5440007  -1.48483754  0.60721548 -0.08697162]\n",
      " [-0.82903528 -1.0507505  -0.0217405  -1.5026963   1.68343602]]\n"
     ]
    }
   ],
   "source": [
    "import numpy as np #Start of program\n",
    "\n",
    "X = np.random.rand(5, 5) #Create randomized array\n",
    "\n",
    "#Normalize array\n",
    "X_mean = X.mean()\n",
    "X_std = X.std()\n",
    "X_normalized = (X - X_mean) / X_std\n",
    "\n",
    "#Save normalized array\n",
    "np.save('X_normalized.npy', X_normalized)\n",
    "\n",
    "#Print\n",
    "print(\"Original Array X:\\n\", X)\n",
    "print(\"Mean of X:\", X_mean)\n",
    "print(\"Standard Deviation of X:\", X_std)\n",
    "print(\"Normalized Array X_normalized:\\n\", X_normalized)\n"
   ]
  },
  {
   "cell_type": "code",
   "execution_count": null,
   "id": "47aa67b3-4c75-4bcc-8d4f-c05e19e2fcad",
   "metadata": {},
   "outputs": [],
   "source": []
  },
  {
   "cell_type": "markdown",
   "id": "24ba7620-e300-434c-b1db-ad78f579736d",
   "metadata": {},
   "source": [
    "**_Divisible by 3 Problem_**"
   ]
  },
  {
   "cell_type": "code",
   "execution_count": 8,
   "id": "d8f4f01c-df95-4236-9093-7b8e7acdf106",
   "metadata": {},
   "outputs": [
    {
     "name": "stdout",
     "output_type": "stream",
     "text": [
      "Array A (10x10 ndarray of squares):\n",
      " [[    1     4     9    16    25    36    49    64    81   100]\n",
      " [  121   144   169   196   225   256   289   324   361   400]\n",
      " [  441   484   529   576   625   676   729   784   841   900]\n",
      " [  961  1024  1089  1156  1225  1296  1369  1444  1521  1600]\n",
      " [ 1681  1764  1849  1936  2025  2116  2209  2304  2401  2500]\n",
      " [ 2601  2704  2809  2916  3025  3136  3249  3364  3481  3600]\n",
      " [ 3721  3844  3969  4096  4225  4356  4489  4624  4761  4900]\n",
      " [ 5041  5184  5329  5476  5625  5776  5929  6084  6241  6400]\n",
      " [ 6561  6724  6889  7056  7225  7396  7569  7744  7921  8100]\n",
      " [ 8281  8464  8649  8836  9025  9216  9409  9604  9801 10000]]\n",
      "Elements divisible by 3:\n",
      " [   9   36   81  144  225  324  441  576  729  900 1089 1296 1521 1764\n",
      " 2025 2304 2601 2916 3249 3600 3969 4356 4761 5184 5625 6084 6561 7056\n",
      " 7569 8100 8649 9216 9801]\n"
     ]
    }
   ],
   "source": [
    "import numpy as np #Start of program\n",
    "\n",
    "#Create 10x10 array with the squares of <100 numbers\n",
    "A = np.arange(1, 101)**2\n",
    "A = A.reshape(10, 10)\n",
    "\n",
    "#Check elements that can be divided by 3\n",
    "div_by_3 = A[A % 3 == 0]\n",
    "\n",
    "#Save the result\n",
    "np.save('div_by_3.npy', div_by_3)\n",
    "\n",
    "#Print\n",
    "print(\"Array A (10x10 ndarray of squares):\\n\", A)\n",
    "print(\"Elements divisible by 3:\\n\", div_by_3)\n"
   ]
  }
 ],
 "metadata": {
  "kernelspec": {
   "display_name": "Python 3 (ipykernel)",
   "language": "python",
   "name": "python3"
  },
  "language_info": {
   "codemirror_mode": {
    "name": "ipython",
    "version": 3
   },
   "file_extension": ".py",
   "mimetype": "text/x-python",
   "name": "python",
   "nbconvert_exporter": "python",
   "pygments_lexer": "ipython3",
   "version": "3.12.4"
  }
 },
 "nbformat": 4,
 "nbformat_minor": 5
}
